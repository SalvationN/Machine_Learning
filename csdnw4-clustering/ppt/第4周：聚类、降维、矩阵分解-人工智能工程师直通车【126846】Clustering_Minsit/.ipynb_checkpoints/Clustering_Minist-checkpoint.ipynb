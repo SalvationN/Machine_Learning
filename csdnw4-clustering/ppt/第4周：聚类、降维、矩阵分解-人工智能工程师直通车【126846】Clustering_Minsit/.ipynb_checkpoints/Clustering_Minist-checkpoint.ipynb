{
 "cells": [
  {
   "cell_type": "markdown",
   "metadata": {},
   "source": [
    "# 聚类\n",
    "\n",
    "熟悉各中聚类算法的调用\n",
    "并用评价指标选择合适的超参数"
   ]
  },
  {
   "cell_type": "code",
   "execution_count": 3,
   "metadata": {},
   "outputs": [],
   "source": [
    "#导入必要的工具包\n",
    "import pandas as pd\n",
    "import numpy as np\n",
    "from sklearn.cluster import MiniBatchKMeans\n",
    "from sklearn.model_selection import train_test_split\n",
    "from sklearn import metrics\n",
    "\n",
    "from sklearn.decomposition import PCA\n",
    "import time\n",
    "\n",
    "import matplotlib.pyplot as plt\n",
    "%matplotlib inline"
   ]
  },
  {
   "cell_type": "code",
   "execution_count": 16,
   "metadata": {},
   "outputs": [
    {
     "name": "stdout",
     "output_type": "stream",
     "text": [
      "       label  pixel0  pixel1  pixel2  pixel3  pixel4  pixel5  pixel6  pixel7  \\\n",
      "0          1       0       0       0       0       0       0       0       0   \n",
      "1          0       0       0       0       0       0       0       0       0   \n",
      "2          1       0       0       0       0       0       0       0       0   \n",
      "3          4       0       0       0       0       0       0       0       0   \n",
      "4          0       0       0       0       0       0       0       0       0   \n",
      "5          0       0       0       0       0       0       0       0       0   \n",
      "6          7       0       0       0       0       0       0       0       0   \n",
      "7          3       0       0       0       0       0       0       0       0   \n",
      "8          5       0       0       0       0       0       0       0       0   \n",
      "9          3       0       0       0       0       0       0       0       0   \n",
      "10         8       0       0       0       0       0       0       0       0   \n",
      "11         9       0       0       0       0       0       0       0       0   \n",
      "12         1       0       0       0       0       0       0       0       0   \n",
      "13         3       0       0       0       0       0       0       0       0   \n",
      "14         3       0       0       0       0       0       0       0       0   \n",
      "15         1       0       0       0       0       0       0       0       0   \n",
      "16         2       0       0       0       0       0       0       0       0   \n",
      "17         0       0       0       0       0       0       0       0       0   \n",
      "18         7       0       0       0       0       0       0       0       0   \n",
      "19         5       0       0       0       0       0       0       0       0   \n",
      "20         8       0       0       0       0       0       0       0       0   \n",
      "21         6       0       0       0       0       0       0       0       0   \n",
      "22         2       0       0       0       0       0       0       0       0   \n",
      "23         0       0       0       0       0       0       0       0       0   \n",
      "24         2       0       0       0       0       0       0       0       0   \n",
      "25         3       0       0       0       0       0       0       0       0   \n",
      "26         6       0       0       0       0       0       0       0       0   \n",
      "27         9       0       0       0       0       0       0       0       0   \n",
      "28         9       0       0       0       0       0       0       0       0   \n",
      "29         7       0       0       0       0       0       0       0       0   \n",
      "...      ...     ...     ...     ...     ...     ...     ...     ...     ...   \n",
      "41970      2       0       0       0       0       0       0       0       0   \n",
      "41971      3       0       0       0       0       0       0       0       0   \n",
      "41972      4       0       0       0       0       0       0       0       0   \n",
      "41973      4       0       0       0       0       0       0       0       0   \n",
      "41974      3       0       0       0       0       0       0       0       0   \n",
      "41975      9       0       0       0       0       0       0       0       0   \n",
      "41976      2       0       0       0       0       0       0       0       0   \n",
      "41977      4       0       0       0       0       0       0       0       0   \n",
      "41978      4       0       0       0       0       0       0       0       0   \n",
      "41979      4       0       0       0       0       0       0       0       0   \n",
      "41980      7       0       0       0       0       0       0       0       0   \n",
      "41981      2       0       0       0       0       0       0       0       0   \n",
      "41982      8       0       0       0       0       0       0       0       0   \n",
      "41983      7       0       0       0       0       0       0       0       0   \n",
      "41984      3       0       0       0       0       0       0       0       0   \n",
      "41985      3       0       0       0       0       0       0       0       0   \n",
      "41986      0       0       0       0       0       0       0       0       0   \n",
      "41987      5       0       0       0       0       0       0       0       0   \n",
      "41988      0       0       0       0       0       0       0       0       0   \n",
      "41989      5       0       0       0       0       0       0       0       0   \n",
      "41990      3       0       0       0       0       0       0       0       0   \n",
      "41991      1       0       0       0       0       0       0       0       0   \n",
      "41992      9       0       0       0       0       0       0       0       0   \n",
      "41993      6       0       0       0       0       0       0       0       0   \n",
      "41994      4       0       0       0       0       0       0       0       0   \n",
      "41995      0       0       0       0       0       0       0       0       0   \n",
      "41996      1       0       0       0       0       0       0       0       0   \n",
      "41997      7       0       0       0       0       0       0       0       0   \n",
      "41998      6       0       0       0       0       0       0       0       0   \n",
      "41999      9       0       0       0       0       0       0       0       0   \n",
      "\n",
      "       pixel8    ...     pixel774  pixel775  pixel776  pixel777  pixel778  \\\n",
      "0           0    ...            0         0         0         0         0   \n",
      "1           0    ...            0         0         0         0         0   \n",
      "2           0    ...            0         0         0         0         0   \n",
      "3           0    ...            0         0         0         0         0   \n",
      "4           0    ...            0         0         0         0         0   \n",
      "5           0    ...            0         0         0         0         0   \n",
      "6           0    ...            0         0         0         0         0   \n",
      "7           0    ...            0         0         0         0         0   \n",
      "8           0    ...            0         0         0         0         0   \n",
      "9           0    ...            0         0         0         0         0   \n",
      "10          0    ...            0         0         0         0         0   \n",
      "11          0    ...            0         0         0         0         0   \n",
      "12          0    ...            0         0         0         0         0   \n",
      "13          0    ...            0         0         0         0         0   \n",
      "14          0    ...            0         0         0         0         0   \n",
      "15          0    ...            0         0         0         0         0   \n",
      "16          0    ...            0         0         0         0         0   \n",
      "17          0    ...            0         0         0         0         0   \n",
      "18          0    ...            0         0         0         0         0   \n",
      "19          0    ...            0         0         0         0         0   \n",
      "20          0    ...            0         0         0         0         0   \n",
      "21          0    ...            0         0         0         0         0   \n",
      "22          0    ...            0         0         0         0         0   \n",
      "23          0    ...            0         0         0         0         0   \n",
      "24          0    ...            0         0         0         0         0   \n",
      "25          0    ...            0         0         0         0         0   \n",
      "26          0    ...            0         0         0         0         0   \n",
      "27          0    ...            0         0         0         0         0   \n",
      "28          0    ...            0         0         0         0         0   \n",
      "29          0    ...            0         0         0         0         0   \n",
      "...       ...    ...          ...       ...       ...       ...       ...   \n",
      "41970       0    ...            0         0         0         0         0   \n",
      "41971       0    ...            0         0         0         0         0   \n",
      "41972       0    ...            0         0         0         0         0   \n",
      "41973       0    ...            0         0         0         0         0   \n",
      "41974       0    ...            0         0         0         0         0   \n",
      "41975       0    ...            0         0         0         0         0   \n",
      "41976       0    ...            0         0         0         0         0   \n",
      "41977       0    ...            0         0         0         0         0   \n",
      "41978       0    ...            0         0         0         0         0   \n",
      "41979       0    ...            0         0         0         0         0   \n",
      "41980       0    ...           27       253       110         0         0   \n",
      "41981       0    ...            0         0         0         0         0   \n",
      "41982       0    ...            0         0         0         0         0   \n",
      "41983       0    ...            0         0         0         0         0   \n",
      "41984       0    ...            0         0         0         0         0   \n",
      "41985       0    ...            0         0         0         0         0   \n",
      "41986       0    ...            0         0         0         0         0   \n",
      "41987       0    ...            0         0         0         0         0   \n",
      "41988       0    ...            0         0         0         0         0   \n",
      "41989       0    ...            0         0         0         0         0   \n",
      "41990       0    ...            0         0         0         0         0   \n",
      "41991       0    ...            0         0         0         0         0   \n",
      "41992       0    ...            0         0         0         0         0   \n",
      "41993       0    ...            0         0         0         0         0   \n",
      "41994       0    ...            0         0         0         0         0   \n",
      "41995       0    ...            0         0         0         0         0   \n",
      "41996       0    ...            0         0         0         0         0   \n",
      "41997       0    ...            0         0         0         0         0   \n",
      "41998       0    ...            0         0         0         0         0   \n",
      "41999       0    ...            0         0         0         0         0   \n",
      "\n",
      "       pixel779  pixel780  pixel781  pixel782  pixel783  \n",
      "0             0         0         0         0         0  \n",
      "1             0         0         0         0         0  \n",
      "2             0         0         0         0         0  \n",
      "3             0         0         0         0         0  \n",
      "4             0         0         0         0         0  \n",
      "5             0         0         0         0         0  \n",
      "6             0         0         0         0         0  \n",
      "7             0         0         0         0         0  \n",
      "8             0         0         0         0         0  \n",
      "9             0         0         0         0         0  \n",
      "10            0         0         0         0         0  \n",
      "11            0         0         0         0         0  \n",
      "12            0         0         0         0         0  \n",
      "13            0         0         0         0         0  \n",
      "14            0         0         0         0         0  \n",
      "15            0         0         0         0         0  \n",
      "16            0         0         0         0         0  \n",
      "17            0         0         0         0         0  \n",
      "18            0         0         0         0         0  \n",
      "19            0         0         0         0         0  \n",
      "20            0         0         0         0         0  \n",
      "21            0         0         0         0         0  \n",
      "22            0         0         0         0         0  \n",
      "23            0         0         0         0         0  \n",
      "24            0         0         0         0         0  \n",
      "25            0         0         0         0         0  \n",
      "26            0         0         0         0         0  \n",
      "27            0         0         0         0         0  \n",
      "28            0         0         0         0         0  \n",
      "29            0         0         0         0         0  \n",
      "...         ...       ...       ...       ...       ...  \n",
      "41970         0         0         0         0         0  \n",
      "41971         0         0         0         0         0  \n",
      "41972         0         0         0         0         0  \n",
      "41973         0         0         0         0         0  \n",
      "41974         0         0         0         0         0  \n",
      "41975         0         0         0         0         0  \n",
      "41976         0         0         0         0         0  \n",
      "41977         0         0         0         0         0  \n",
      "41978         0         0         0         0         0  \n",
      "41979         0         0         0         0         0  \n",
      "41980         0         0         0         0         0  \n",
      "41981         0         0         0         0         0  \n",
      "41982         0         0         0         0         0  \n",
      "41983         0         0         0         0         0  \n",
      "41984         0         0         0         0         0  \n",
      "41985         0         0         0         0         0  \n",
      "41986         0         0         0         0         0  \n",
      "41987         0         0         0         0         0  \n",
      "41988         0         0         0         0         0  \n",
      "41989         0         0         0         0         0  \n",
      "41990         0         0         0         0         0  \n",
      "41991         0         0         0         0         0  \n",
      "41992         0         0         0         0         0  \n",
      "41993         0         0         0         0         0  \n",
      "41994         0         0         0         0         0  \n",
      "41995         0         0         0         0         0  \n",
      "41996         0         0         0         0         0  \n",
      "41997         0         0         0         0         0  \n",
      "41998         0         0         0         0         0  \n",
      "41999         0         0         0         0         0  \n",
      "\n",
      "[42000 rows x 785 columns]\n"
     ]
    }
   ],
   "source": [
    "#读取训练数据\n",
    "train = pd.read_csv('./data/MNIST_train.csv')\n",
    "\n",
    "n_trains = 1000\n",
    "y_train = train.label.values[:n_trains]\n",
    "X_train = train.drop(\"label\",axis=1).values[:n_trains]\n",
    "print(train)"
   ]
  },
  {
   "cell_type": "code",
   "execution_count": 5,
   "metadata": {},
   "outputs": [],
   "source": [
    "#将像素值[0,255]  --> [0,1]\n",
    "X_train = X_train / 255.0"
   ]
  },
  {
   "cell_type": "code",
   "execution_count": 6,
   "metadata": {},
   "outputs": [
    {
     "name": "stdout",
     "output_type": "stream",
     "text": [
      "the shape of train_image: (1000, 784)\n"
     ]
    }
   ],
   "source": [
    "# 原始输入的特征维数和样本数目\n",
    "print('the shape of train_image: {}'.format(X_train.shape))"
   ]
  },
  {
   "cell_type": "code",
   "execution_count": 15,
   "metadata": {},
   "outputs": [
    {
     "name": "stdout",
     "output_type": "stream",
     "text": [
      "[[-2.46827217  2.86428418 -0.78161482 ... -0.66359612  0.14488926\n",
      "   0.08732867]\n",
      " [ 6.8067854   1.26382069  3.01445667 ... -0.53905227 -0.19802354\n",
      "  -0.08182296]\n",
      " [-3.29807589  1.18734944 -0.26154839 ... -0.01512767  0.00735006\n",
      "   0.07194493]\n",
      " ...\n",
      " [-2.1182568  -3.14699508  1.18042186 ...  0.21379892  0.23514717\n",
      "   0.20104883]\n",
      " [ 1.14089169  0.99533595 -2.72511795 ...  0.26254045  0.55799523\n",
      "  -0.28137052]\n",
      " [-1.71464862 -0.95712517  2.09349821 ... -0.04018423 -0.57816034\n",
      "  -0.0706874 ]]\n"
     ]
    }
   ],
   "source": [
    "#对数据进行PCA降维\n",
    "pca = PCA(n_components=0.75)\n",
    "pca.fit(X_train)\n",
    "\n",
    "X_train_pca = pca.transform(X_train)\n",
    "\n",
    "# 降维后的特征维数\n",
    "print(X_train_pca)"
   ]
  },
  {
   "cell_type": "code",
   "execution_count": 8,
   "metadata": {},
   "outputs": [
    {
     "name": "stderr",
     "output_type": "stream",
     "text": [
      "C:\\ProgramData\\Anaconda3\\lib\\site-packages\\sklearn\\model_selection\\_split.py:2026: FutureWarning: From version 0.21, test_size will always complement train_size unless both are specified.\n",
      "  FutureWarning)\n"
     ]
    }
   ],
   "source": [
    "# 将训练集合拆分成训练集和校验集，在校验集上找到最佳的模型超参数（PCA的维数）\n",
    "X_train_part, X_val, y_train_part, y_val = train_test_split(X_train_pca,y_train, train_size = 0.8,random_state = 0)"
   ]
  },
  {
   "cell_type": "code",
   "execution_count": 9,
   "metadata": {
    "scrolled": true
   },
   "outputs": [
    {
     "name": "stdout",
     "output_type": "stream",
     "text": [
      "(800, 32)\n",
      "(200, 32)\n"
     ]
    }
   ],
   "source": [
    "#拆分后的训练集和校验集的样本数目\n",
    "print(X_train_part.shape)\n",
    "print(X_val.shape)"
   ]
  },
  {
   "cell_type": "code",
   "execution_count": 10,
   "metadata": {},
   "outputs": [],
   "source": [
    "# 一个参数点（聚类数据为K）的模型，在校验集上评价聚类算法性能\n",
    "def K_cluster_analysis(K, X_train, y_train, X_val, y_val):\n",
    "    start = time.time()\n",
    "    \n",
    "    print(\"K-means begin with clusters: {}\".format(K));\n",
    "    \n",
    "    #K-means,在训练集上训练\n",
    "    mb_kmeans = MiniBatchKMeans(n_clusters = K)\n",
    "    mb_kmeans.fit(X_train)\n",
    "    \n",
    "    # 在训练集和测试集上测试\n",
    "    #y_train_pred = mb_kmeans.fit_predict(X_train)\n",
    "    y_val_pred = mb_kmeans.predict(X_val)\n",
    "    \n",
    "    #以前两维特征打印训练数据的分类结果\n",
    "    #plt.scatter(X_train[:, 0], X_train[:, 1], c=y_pred)\n",
    "    #plt.show()\n",
    "\n",
    "    # K值的评估标准\n",
    "    #常见的方法有轮廓系数Silhouette Coefficient和Calinski-Harabasz Index\n",
    "    #这两个分数值越大则聚类效果越好\n",
    "    #CH_score = metrics.calinski_harabaz_score(X_train,mb_kmeans.predict(X_train))\n",
    "    CH_score = metrics.silhouette_score(X_train,mb_kmeans.predict(X_train))\n",
    "    \n",
    "    #也可以在校验集上评估K\n",
    "    v_score = metrics.v_measure_score(y_val, y_val_pred)\n",
    "    \n",
    "    end = time.time()\n",
    "    print(\"CH_score: {}, time elaps:{}\".format(CH_score, int(end-start)))\n",
    "    print(\"v_score: {}\".format(v_score))\n",
    "    \n",
    "    return CH_score,v_score"
   ]
  },
  {
   "cell_type": "code",
   "execution_count": 11,
   "metadata": {},
   "outputs": [
    {
     "name": "stdout",
     "output_type": "stream",
     "text": [
      "K-means begin with clusters: 10\n",
      "CH_score: 0.08115300258910732, time elaps:0\n",
      "v_score: 0.4819191346431674\n",
      "K-means begin with clusters: 20\n",
      "CH_score: 0.1018521737021085, time elaps:0\n",
      "v_score: 0.5804264662079062\n",
      "K-means begin with clusters: 30\n",
      "CH_score: 0.09797368025170954, time elaps:0\n",
      "v_score: 0.6588218531990956\n",
      "K-means begin with clusters: 40\n",
      "CH_score: 0.10586926143546771, time elaps:0\n",
      "v_score: 0.5885324883994386\n",
      "K-means begin with clusters: 50\n",
      "CH_score: 0.09362025248595388, time elaps:0\n",
      "v_score: 0.6463295154924226\n",
      "K-means begin with clusters: 60\n",
      "CH_score: 0.09673514500211292, time elaps:0\n",
      "v_score: 0.6475368465230441\n"
     ]
    }
   ],
   "source": [
    "# 设置超参数（聚类数目K）搜索范围\n",
    "Ks = [10, 20, 30,40,50,60]\n",
    "CH_scores = []\n",
    "v_scores = []\n",
    "for K in Ks:\n",
    "    ch,v = K_cluster_analysis(K, X_train_part, y_train_part, X_val, y_val)\n",
    "    CH_scores.append(ch)\n",
    "    v_scores.append(v)"
   ]
  },
  {
   "cell_type": "code",
   "execution_count": 12,
   "metadata": {},
   "outputs": [
    {
     "data": {
      "text/plain": [
       "[<matplotlib.lines.Line2D at 0x1f2044524a8>]"
      ]
     },
     "execution_count": 12,
     "metadata": {},
     "output_type": "execute_result"
    },
    {
     "data": {
      "image/png": "[encoded data removed]",
      "text/plain": [
       "<matplotlib.figure.Figure at 0x1f203fcafd0>"
      ]
     },
     "metadata": {},
     "output_type": "display_data"
    }
   ],
   "source": [
    "# 绘制不同PCA维数下模型的性能，找到最佳模型／参数（分数最高）\n",
    "plt.plot(Ks, np.array(CH_scores), 'b-')"
   ]
  },
  {
   "cell_type": "code",
   "execution_count": 13,
   "metadata": {
    "scrolled": true
   },
   "outputs": [
    {
     "data": {
      "text/plain": [
       "[<matplotlib.lines.Line2D at 0x1f204405b00>]"
      ]
     },
     "execution_count": 13,
     "metadata": {},
     "output_type": "execute_result"
    },
    {
     "data": {
      "image/png": "[encoded data removed]",
      "text/plain": [
       "<matplotlib.figure.Figure at 0x1f2042bf048>"
      ]
     },
     "metadata": {},
     "output_type": "display_data"
    }
   ],
   "source": [
    "plt.plot(Ks, np.array(v_scores), 'g-')"
   ]
  },
  {
   "cell_type": "markdown",
   "metadata": {},
   "source": [
    "两个指标的变化趋势类似"
   ]
  },
  {
   "cell_type": "code",
   "execution_count": 19,
   "metadata": {},
   "outputs": [
    {
     "data": {
      "image/png": "[encoded data removed]",
      "text/plain": [
       "<matplotlib.figure.Figure at 0x1f2045e5e80>"
      ]
     },
     "metadata": {},
     "output_type": "display_data"
    }
   ],
   "source": [
    "#显示聚类结果\n",
    "#画出聚类结果，每一类用一种颜色\n",
    "colors = ['b','g','r','k','c','m','y','#e24fff','#524C90','#845868']\n",
    "\n",
    "n_clusters = 10\n",
    "mb_kmeans = MiniBatchKMeans(n_clusters = n_clusters)\n",
    "mb_kmeans.fit(X_train_pca)\n",
    "\n",
    "y_train_pred = mb_kmeans.labels_\n",
    "cents = mb_kmeans.cluster_centers_#质心\n",
    "\n",
    "for i in range(n_clusters):\n",
    "    index = np.nonzero(y_train_pred==i)[0]\n",
    "    x1 = X_train_pca[index,0]\n",
    "    x2 = X_train_pca[index,1]\n",
    "    y_i = y_train[index]\n",
    "    for j in range(len(x1)):\n",
    "        if j < 20:  #每类打印20个\n",
    "            plt.text(x1[j],x2[j],str(int(y_i[j])),color=colors[i],fontdict={'weight': 'bold', 'size': 9})\n",
    "    #plt.scatter(cents[i,0],cents[i,1],marker='x',color=colors[i],linewidths=12)\n",
    "\n",
    "plt.axis([-5,10,-6,6])\n",
    "plt.show()"
   ]
  },
  {
   "cell_type": "markdown",
   "metadata": {},
   "source": [
    "效果并不好，7，9混在一个簇中"
   ]
  }
 ],
 "metadata": {
  "kernelspec": {
   "display_name": "Python 3",
   "language": "python",
   "name": "python3"
  },
  "language_info": {
   "codemirror_mode": {
    "name": "ipython",
    "version": 3
   },
   "file_extension": ".py",
   "mimetype": "text/x-python",
   "name": "python",
   "nbconvert_exporter": "python",
   "pygments_lexer": "ipython3",
   "version": "3.6.4"
  }
 },
 "nbformat": 4,
 "nbformat_minor": 2
}
